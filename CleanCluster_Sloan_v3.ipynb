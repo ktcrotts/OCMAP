{
 "cells": [
  {
   "cell_type": "code",
   "execution_count": 4,
   "metadata": {
    "collapsed": true
   },
   "outputs": [],
   "source": [
    "from astropy.table import QTable, hstack\n",
    "import numpy as np\n",
    "import time\n",
    "import datetime\n",
    "import itertools\n",
    "import glob\n",
    "import os\n",
    "import matplotlib.pyplot as plt\n",
    "%matplotlib inline"
   ]
  },
  {
   "cell_type": "code",
   "execution_count": 5,
   "metadata": {
    "collapsed": false
   },
   "outputs": [],
   "source": [
    "# !ls"
   ]
  },
  {
   "cell_type": "code",
   "execution_count": 6,
   "metadata": {
    "collapsed": false,
    "nbpresent": {
     "id": "dfdee515-2f8e-45e6-a749-7a4d995cecbd"
    }
   },
   "outputs": [],
   "source": [
    "path = r'/Users/amielpatton-hall/Desktop/Research/Larson/CLEAN3021/PYTHON/SLOAN/'  #defining location of Phot and trilegal files.\n",
    "cluster = 'turner11'\n",
    "\n",
    "# Phot_unidexed = QTable.read(path + cluster +'_SDSSRelease7.txt', format='ascii')\n",
    "# Trilegal_unidexed = QTable.read(path + cluster +'_TRILEGAL.dat', format='ascii')"
   ]
  },
  {
   "cell_type": "code",
   "execution_count": 7,
   "metadata": {
    "collapsed": true
   },
   "outputs": [],
   "source": [
    "Phot_unidexed = QTable.read(cluster +'_SDSSRelease8.txt', format='ascii')   #you will need to adjust Release #"
   ]
  },
  {
   "cell_type": "code",
   "execution_count": 8,
   "metadata": {
    "collapsed": false
   },
   "outputs": [
    {
     "name": "stdout",
     "output_type": "stream",
     "text": [
      "  855485 14543229 96669696\r\n"
     ]
    }
   ],
   "source": [
    "!cat turner11_TRILEGAL.dat | wc"
   ]
  },
  {
   "cell_type": "code",
   "execution_count": 9,
   "metadata": {
    "collapsed": false
   },
   "outputs": [
    {
     "name": "stdout",
     "output_type": "stream",
     "text": [
      "turner11_TRILEGAL.dat\n"
     ]
    }
   ],
   "source": [
    "# Trilegal_unidexed = QTable.read(cluster +'_TRILEGAL.dat', format='ascii',skip_footer=1)\n",
    "file_ = cluster +'_TRILEGAL.dat'\n",
    "print file_\n",
    "trilegal_glob = glob.glob(file_)\n",
    "with open(trilegal_glob[0]) as f_in:\n",
    "    trilegal_unindexed = np.genfromtxt(f_in,skip_header=1,skip_footer=1,\n",
    "                          dtype=[('Gc', '<f8'), ('[M/H]', '<f8'),('m_ini', '<f8'),('logL', '<f8'),\n",
    "                                 ('logTe', '<f8'), ('logg', '<f8'),('m-M0', '<f8'),('Av', '<f8'),\n",
    "                                 ('m2/m1', '<f8'), ('mbol', '<f8'),('u', '<f8'),('g', '<f8'),\n",
    "                                ('r', '<f8'), ('i', '<f8'),('z', '<f8'),('Mact', '<f8'),])\n",
    "#Gc logAge [M/H] m_ini   logL   logTe logg  m-M0   Av    m2/m1 mbol   u      g      r      i      z        Mact"
   ]
  },
  {
   "cell_type": "code",
   "execution_count": 10,
   "metadata": {
    "collapsed": false
   },
   "outputs": [
    {
     "name": "stdout",
     "output_type": "stream",
     "text": [
      "# stars given by SDSS           3858\n",
      "# stars with g magnitudes       3858\n",
      "# stars with g,r magnitudes     3858\n",
      "# stars with g,r,i magnitudes   3858\n",
      "# stars with g,r,i,u magnitudes 3858\n",
      "# stars removed                 0\n"
     ]
    }
   ],
   "source": [
    "ID = QTable()\n",
    "ID['id'] = range(len(Phot_unidexed)+1)[1:]\n",
    "Phot = hstack([ID,Phot_unidexed],join_type='outer')\n",
    "del ID\n",
    "\n",
    "print '# stars given by SDSS          ',len(Phot)\n",
    "print '# stars with g magnitudes      ',len(Phot[Phot['gmag']>=Phot['gmag'].min()])\n",
    "print '# stars with g,r magnitudes    ',len(Phot[(Phot['gmag']>=Phot['gmag'].min())&(Phot['rmag']>=Phot['rmag'].min())])\n",
    "print '# stars with g,r,i magnitudes  ',len(Phot[(Phot['imag']>=Phot['imag'].min())&(Phot['gmag']>=Phot['gmag'].min())&(Phot['rmag']>=Phot['rmag'].min())])\n",
    "print '# stars with g,r,i,u magnitudes',len(Phot[(Phot['imag']>=Phot['imag'].min())&(Phot['gmag']>=Phot['gmag'].min())&(Phot['rmag']>=Phot['rmag'].min())&(Phot['umag']>=Phot['umag'].min())])\n",
    "print '# stars removed                ',len(Phot) - len(Phot[(Phot['imag']>=Phot['imag'].min())&(Phot['gmag']>=Phot['gmag'].min())&(Phot['rmag']>=Phot['rmag'].min())&(Phot['umag']>=Phot['umag'].min())])\n",
    "\n",
    "#to remove stars with missing magnitudes and redefine Phot without missing mags\n",
    "Phot = Phot[(Phot['imag']>=Phot['imag'].min())&(Phot['gmag']>=Phot['gmag'].min())&(Phot['rmag']>=Phot['rmag'].min())&(Phot['umag']>=Phot['umag'].min())]\n",
    "\n",
    "Phot['g-r'] = Phot['gmag']-Phot['rmag']\n",
    "Phot['e_g-r']=(Phot['e_gmag']**2 + Phot['e_rmag']**2)**.5"
   ]
  },
  {
   "cell_type": "code",
   "execution_count": 11,
   "metadata": {
    "collapsed": false
   },
   "outputs": [
    {
     "data": {
      "text/html": [
       "&lt;QTable masked=True length=3&gt;\n",
       "<table id=\"table4521788624\" class=\"table-striped table-bordered table-condensed\">\n",
       "<thead><tr><th>id</th><th>_RAJ2000</th><th>_DEJ2000</th><th>mode</th><th>q_mode</th><th>cl</th><th>SDSS8</th><th>Im</th><th>m_SDSS8</th><th>RAJ2000</th><th>DEJ2000</th><th>zsp</th><th>umag</th><th>e_umag</th><th>gmag</th><th>e_gmag</th><th>rmag</th><th>e_rmag</th><th>imag</th><th>e_imag</th><th>zmag</th><th>e_zmag</th><th>Q</th><th>ObsDate</th><th>g-r</th><th>e_g-r</th></tr></thead>\n",
       "<thead><tr><th>int64</th><th>float64</th><th>float64</th><th>int64</th><th>float64</th><th>int64</th><th>str19</th><th>str2</th><th>str1</th><th>float64</th><th>float64</th><th>int64</th><th>float64</th><th>float64</th><th>float64</th><th>float64</th><th>float64</th><th>float64</th><th>float64</th><th>float64</th><th>float64</th><th>float64</th><th>int64</th><th>float64</th><th>float64</th><th>float64</th></tr></thead>\n",
       "<tr><td>1</td><td>310.743662</td><td>35.553875</td><td>1</td><td>1.0</td><td>6</td><td>J204258.47+353313.9</td><td>Im</td><td>--</td><td>310.743662</td><td>35.553875</td><td>--</td><td>23.748</td><td>0.74</td><td>23.619</td><td>0.33</td><td>22.166</td><td>0.124</td><td>21.128</td><td>0.08</td><td>20.903</td><td>0.226</td><td>3</td><td>2003.7184</td><td>1.453</td><td>0.352528013071</td></tr>\n",
       "<tr><td>2</td><td>310.743702</td><td>35.564323</td><td>1</td><td>--</td><td>6</td><td>J204258.48+353351.5</td><td>Im</td><td>--</td><td>310.743702</td><td>35.564323</td><td>--</td><td>24.834</td><td>0.953</td><td>20.893</td><td>0.035</td><td>19.22</td><td>0.013</td><td>18.457</td><td>0.011</td><td>18.018</td><td>0.022</td><td>3</td><td>2003.7184</td><td>1.673</td><td>0.0373363094052</td></tr>\n",
       "<tr><td>3</td><td>310.744023</td><td>35.548545</td><td>1</td><td>--</td><td>6</td><td>J204258.56+353254.7</td><td>Im</td><td>--</td><td>310.744023</td><td>35.548545</td><td>--</td><td>24.529</td><td>1.045</td><td>24.761</td><td>0.707</td><td>22.383</td><td>0.165</td><td>21.706</td><td>0.145</td><td>21.587</td><td>0.43</td><td>3</td><td>2003.7184</td><td>2.378</td><td>0.725998622588</td></tr>\n",
       "</table>"
      ],
      "text/plain": [
       "<QTable masked=True length=3>\n",
       "  id   _RAJ2000   _DEJ2000  mode ...   Q    ObsDate    g-r        e_g-r     \n",
       "int64  float64    float64  int64 ... int64  float64  float64     float64    \n",
       "----- ---------- --------- ----- ... ----- --------- ------- ---------------\n",
       "    1 310.743662 35.553875     1 ...     3 2003.7184   1.453  0.352528013071\n",
       "    2 310.743702 35.564323     1 ...     3 2003.7184   1.673 0.0373363094052\n",
       "    3 310.744023 35.548545     1 ...     3 2003.7184   2.378  0.725998622588"
      ]
     },
     "execution_count": 11,
     "metadata": {},
     "output_type": "execute_result"
    }
   ],
   "source": [
    "Phot[:3]"
   ]
  },
  {
   "cell_type": "code",
   "execution_count": 12,
   "metadata": {
    "collapsed": false,
    "nbpresent": {
     "id": "1d5afd63-e1fb-48de-adfd-db5156a6f33d"
    }
   },
   "outputs": [],
   "source": [
    "Trilegal = QTable()\n",
    "Trilegal['id'] = range(len(trilegal_unindexed)+1)[1:]\n",
    "Trilegal['g'] = trilegal_unindexed['g']\n",
    "Trilegal['r'] = trilegal_unindexed['r']\n",
    "Trilegal['g-r'] = Trilegal['g'] - Trilegal['r']"
   ]
  },
  {
   "cell_type": "code",
   "execution_count": 13,
   "metadata": {
    "collapsed": false
   },
   "outputs": [
    {
     "data": {
      "text/html": [
       "&lt;QTable length=3&gt;\n",
       "<table id=\"table4342847184\" class=\"table-striped table-bordered table-condensed\">\n",
       "<thead><tr><th>id</th><th>g</th><th>r</th><th>g-r</th></tr></thead>\n",
       "<thead><tr><th>int64</th><th>float64</th><th>float64</th><th>float64</th></tr></thead>\n",
       "<tr><td>1</td><td>33.979</td><td>30.206</td><td>3.773</td></tr>\n",
       "<tr><td>2</td><td>34.812</td><td>30.07</td><td>4.742</td></tr>\n",
       "<tr><td>3</td><td>20.406</td><td>18.698</td><td>1.708</td></tr>\n",
       "</table>"
      ],
      "text/plain": [
       "<QTable length=3>\n",
       "  id     g       r      g-r  \n",
       "int64 float64 float64 float64\n",
       "----- ------- ------- -------\n",
       "    1  33.979  30.206   3.773\n",
       "    2  34.812   30.07   4.742\n",
       "    3  20.406  18.698   1.708"
      ]
     },
     "execution_count": 13,
     "metadata": {},
     "output_type": "execute_result"
    }
   ],
   "source": [
    "Trilegal[:3]"
   ]
  },
  {
   "cell_type": "code",
   "execution_count": 14,
   "metadata": {
    "collapsed": false,
    "nbpresent": {
     "id": "80a4efd4-c97b-472c-b88b-b2e6ded69adb"
    },
    "scrolled": false
   },
   "outputs": [
    {
     "name": "stdout",
     "output_type": "stream",
     "text": [
      "# Phot     3858\n",
      "# Trilegal 855483\n"
     ]
    }
   ],
   "source": [
    "# To define all needed values as arrays and build upper and lower y and b-y limits for each star:\n",
    "id_phot = Phot['id'] #following renaming convention used in Clean3201\n",
    "gmag_phot = Phot['gmag']\n",
    "colgr_phot = Phot['g-r']\n",
    "sigg_phot = Phot['e_gmag']\n",
    "siggr_phot = Phot['e_g-r']\n",
    "\n",
    "gmag_tri = Trilegal['g']\n",
    "colgr_tri =  Trilegal['g-r']\n",
    "\n",
    "n_stars = len(Phot)\n",
    "n_f_stars = len(Trilegal)\n",
    "\n",
    "ratio = 1\n",
    "\n",
    "# y - determining ry\n",
    "edge_g_phot = ratio*2 * sigg_phot\n",
    "for i in range(n_stars):\n",
    "    if .2 > edge_g_phot[i]:\n",
    "        edge_g_phot[i] = ratio * .2\n",
    "        \n",
    "# b-y - determining rby\n",
    "edge_gr_phot = ratio*2 * siggr_phot\n",
    "for i in range(n_stars):\n",
    "    if .1 > edge_gr_phot[i]:\n",
    "        edge_gr_phot[i] = ratio * .1\n",
    "\n",
    "# Final upper and lower limits determined:\n",
    "u_limit_g_phot = gmag_phot + edge_g_phot\n",
    "l_limit_g_phot = gmag_phot - edge_g_phot\n",
    "u_limit_gr_phot = colgr_phot + edge_gr_phot\n",
    "l_limit_gr_phot = colgr_phot - edge_gr_phot\n",
    "\n",
    "print '# Phot    ',n_stars\n",
    "print '# Trilegal',n_f_stars\n",
    "# print id_phot[:3]\n",
    "# print gmag_phot[:3]\n",
    "# print colgr_phot[:3]\n",
    "# print sigg_phot[:3]\n",
    "# print siggr_phot[:3]\n",
    "# print gmag_tri[:3]\n",
    "# print colgr_tri[:3]\n",
    "# print 'edge_g_phot:',edge_g_phot[:3]\n",
    "# print 'edge_gr_phot:',edge_gr_phot[:3]\n",
    "# print 'u_limit_g_phot:',u_limit_g_phot[:3]\n",
    "# print 'l_limit_g_phot:',l_limit_g_phot[:3]\n",
    "# print 'u_limit_gr_phot:',u_limit_gr_phot[:3]\n",
    "# print 'l_limit_gr_phot:',l_limit_gr_phot[:3]"
   ]
  },
  {
   "cell_type": "code",
   "execution_count": 15,
   "metadata": {
    "collapsed": false
   },
   "outputs": [],
   "source": [
    "#Finding # local PHOT stars around all PHOT Stars\n",
    "start_time_phot = time.time()\n",
    "\n",
    "n = 20          #first run for 10 stars to find full run time\n",
    "# n = n_stars     #then run for all stars\n",
    "n_near_g_gr = []\n",
    "for star in range(n):\n",
    "    a = 0\n",
    "    l_limit_g_phot_star = l_limit_g_phot[star]\n",
    "    u_limit_g_phot_star = u_limit_g_phot[star]\n",
    "    l_limit_gr_phot_star = l_limit_gr_phot[star]\n",
    "    u_limit_gr_phot_star = u_limit_gr_phot[star]\n",
    "    for near in range(n_stars):\n",
    "        mag = gmag_phot[near]\n",
    "        range_1 = (mag > l_limit_g_phot_star)\n",
    "        if range_1 == True:\n",
    "            range_3 = (mag < u_limit_g_phot_star)\n",
    "            if range_3 == True:\n",
    "                col = colgr_phot[near]\n",
    "                range_2 = (col > l_limit_gr_phot_star)\n",
    "                if range_2 == True:\n",
    "                    range_4 = (col < u_limit_gr_phot_star)\n",
    "                    if range_4 == True:\n",
    "                        a += 1.0\n",
    "    n_near_g_gr.append(a)\n",
    "\n",
    "end_time_phot = time.time()"
   ]
  },
  {
   "cell_type": "code",
   "execution_count": 16,
   "metadata": {
    "collapsed": false
   },
   "outputs": [
    {
     "name": "stdout",
     "output_type": "stream",
     "text": [
      "PHOT\n",
      "#: [417  34 743  26 623 665 173 216 643  37  94 625  57  49  24  91   1  98\n",
      "  66  48]     mean: 236.5\n",
      "%: [ 0.10808709  0.00881286  0.19258684  0.00673924  0.16148263  0.17236911\n",
      "  0.04484189  0.05598756  0.16666667  0.00959046  0.02436496  0.16200104\n",
      "  0.01477449  0.01270088  0.00622084  0.02358735  0.0002592   0.02540176\n",
      "  0.01710731  0.01244168]     mean: 0.0613012\n",
      "Iterations:      20 / 3858\n",
      "Elapsed time:    14.6098 seconds\n",
      "Rate:            0.730491 sec/range\n",
      "Est Total time:  46.7514 minutes  / 2805.09 seconds  / 0.766417 hours\n"
     ]
    }
   ],
   "source": [
    "n_near_g_gr = np.array(n_near_g_gr, dtype='f')  #turning array into dtype float\n",
    "backup_phot = n_near_g_gr\n",
    "# n_near_g_gr = backup_phot   # use this line to use backup n_near instead of new n_near, make sure to # previous 2 lines\n",
    "\n",
    "d_t1 = end_time_phot - start_time_phot\n",
    "\n",
    "print \"PHOT\"\n",
    "print '#:', np.array(n_near_g_gr, dtype='i'), '    mean:',n_near_g_gr.mean()\n",
    "print '%:',n_near_g_gr/n_stars, '    mean:',(n_near_g_gr/n_stars).mean()\n",
    "print \"Iterations:      %g\" % len(n_near_g_gr), \"/ %g\" % n_stars\n",
    "print \"Elapsed time:    %g seconds\" % d_t1\n",
    "print \"Rate:            %g sec/range\" % (d_t1/n)\n",
    "print \"Est Total time:  %g minutes\" % (n_stars/n * d_t1/60), \" / %g seconds\" % (n_stars / n * d_t1), \" / %g hours\" % (n_stars/n * d_t1/3660) "
   ]
  },
  {
   "cell_type": "code",
   "execution_count": 17,
   "metadata": {
    "collapsed": false
   },
   "outputs": [],
   "source": [
    "#Finding # local TRILEGAL stars around all PHOT Stars\n",
    "start_time_tri = time.time()\n",
    "\n",
    "m = 10            #first run for 10 stars to find full run time\n",
    "# m = n_stars         #then run for all stars\n",
    "n_near_g_gr_tri = []\n",
    "for star in range(m):\n",
    "    a = 0\n",
    "    l_limit_g_phot_star = l_limit_g_phot[star]\n",
    "    u_limit_g_phot_star = u_limit_g_phot[star]\n",
    "    l_limit_gr_phot_star = l_limit_gr_phot[star]\n",
    "    u_limit_gr_phot_star = u_limit_gr_phot[star]\n",
    "    for near in range(n_f_stars):\n",
    "        mag = gmag_tri[near]\n",
    "        range_1 = (mag > l_limit_g_phot_star)\n",
    "        if range_1 == True:\n",
    "            range_3 = (mag < u_limit_g_phot_star)\n",
    "            if range_3 == True:\n",
    "                col = colgr_tri[near]\n",
    "                range_2 = (col > l_limit_gr_phot_star)\n",
    "                if range_2 == True:\n",
    "                    range_4 = (col < u_limit_gr_phot_star)\n",
    "                    if range_4 == True:\n",
    "                        a += 1.0\n",
    "    n_near_g_gr_tri.append(a)\n",
    "    \n",
    "end_time_tri = time.time()"
   ]
  },
  {
   "cell_type": "code",
   "execution_count": 18,
   "metadata": {
    "collapsed": false
   },
   "outputs": [
    {
     "name": "stdout",
     "output_type": "stream",
     "text": [
      "TRILEGAL\n",
      "#: [21166   944 78417  3369 44701 66496 15672    19 67722   940]     mean: 29944.6\n",
      "%: [  2.47415787e-02   1.10347020e-03   9.16640074e-02   3.93812618e-03\n",
      "   5.22523533e-02   7.77291892e-02   1.83194757e-02   2.22096757e-05\n",
      "   7.91622978e-02   1.09879448e-03]     mean: 7.76169\n",
      "Iterations:      10 / 3858\n",
      "Elapsed time:    55.5837 seconds\n",
      "Rate:            5.55837 sec/range\n",
      "Est Total time:  356.662 minutes  / 21399.7 seconds  / 5.84691 hours\n"
     ]
    }
   ],
   "source": [
    "n_near_g_gr_tri = np.array(n_near_g_gr_tri, dtype='f')  #turning array into dtype float\n",
    "backup_tri = n_near_g_gr_tri\n",
    "# n_near_g_gr_tri = backup_tri   # use this line to use backup n_near instead of new n_near, make sure to # previous 2 lines\n",
    "\n",
    "d_t2 = end_time_tri - start_time_tri\n",
    "\n",
    "print \"TRILEGAL\"\n",
    "print '#:', np.array(n_near_g_gr_tri, dtype='i'), '    mean:',n_near_g_gr_tri.mean()\n",
    "print '%:',n_near_g_gr_tri/n_f_stars, '    mean:',(n_near_g_gr_tri/n_stars).mean()\n",
    "print \"Iterations:      %g\" % len(n_near_g_gr_tri), \"/ %g\" % n_stars\n",
    "print \"Elapsed time:    %g seconds\" % d_t2\n",
    "print \"Rate:            %g sec/range\" % (d_t2/m)\n",
    "print \"Est Total time:  %g minutes\" %(n_stars/m * d_t2/60), \" / %g seconds\" % (n_stars / m * d_t2), \" / %g hours\" % (n_stars/m * d_t2/3660)"
   ]
  },
  {
   "cell_type": "code",
   "execution_count": null,
   "metadata": {
    "collapsed": false
   },
   "outputs": [],
   "source": [
    "#ONLY Refresh if completing different cycle and want new files\n",
    "\n",
    "# t_backup = t                  #to use i_backup time replace i with i_backup in savetxt commands.\n",
    "t = datetime.datetime.now()   #DATE + TIME specified in file name.\n",
    "\n",
    "# print 'backup old time:',t_backup.isoformat()\n",
    "print 'new time:       ',t.date()"
   ]
  },
  {
   "cell_type": "code",
   "execution_count": null,
   "metadata": {
    "collapsed": false,
    "nbpresent": {
     "id": "2a3ea38b-d57e-408b-98db-240a0ce8dc43"
    }
   },
   "outputs": [],
   "source": [
    "Limits = QTable()\n",
    "Limits['id'] = id_phot\n",
    "Limits['gmag'] = gmag_phot\n",
    "Limits['colgr'] = colgr_phot\n",
    "Limits['sigg'] = sigg_phot\n",
    "Limits['siggr'] = colgr_phot\n",
    "Limits['edge_g'] = edge_g_phot\n",
    "Limits['edge_gr'] = edge_gr_phot\n",
    "Limits['u_limit_g'] = u_limit_g_phot\n",
    "Limits['l_limit_g'] = l_limit_g_phot\n",
    "Limits['u_limit_gr'] = u_limit_gr_phot\n",
    "Limits['l_limit_gr'] = l_limit_gr_phot\n",
    "Limits['n_near_phot'] = n_near_g_gr            # variable NGC - phot\n",
    "Limits['n_near_trilegal'] = n_near_g_gr_tri    # variable NOFF - trilegal\n",
    "np.savetxt(cluster +'_'+ str(t.date())+'_backup_limits'+'.txt', Limits, delimiter=',', fmt='%s', header='id gmag colgr sigg siggr edge_g edge_gr u_limit_g l_limit_g u_limit_gr l_limit_gr n_near_phot n_near_trilegal')\n",
    "print Limits[:3]"
   ]
  },
  {
   "cell_type": "code",
   "execution_count": null,
   "metadata": {
    "collapsed": false
   },
   "outputs": [],
   "source": [
    "alpha=0.38\n",
    "\n",
    "ngc = np.array(n_near_g_gr, dtype='f')     # NGC   Phot\n",
    "NOFF = np.array(n_near_g_gr_tri, dtype='f') # NOFF  trilegal\n",
    "\n",
    "glob95 = ngc*((1-(1/(9*ngc))-(1.645/(3*np.sqrt((ngc))))+(0.031*(ngc**(-2.5))))**3)\n",
    "field84 = (NOFF+1)*((1.0-1.0/(9.*(NOFF+1)))+( 1./(3.*np.sqrt(NOFF+1))))**3   \n",
    "\n",
    "val = (alpha*field84)/glob95\n",
    "for i in range(len(val)):\n",
    "    if val[i] > 1.0:\n",
    "          val[i]=1.0\n",
    "\n",
    "p = 1 - val"
   ]
  },
  {
   "cell_type": "code",
   "execution_count": null,
   "metadata": {
    "collapsed": false
   },
   "outputs": [],
   "source": [
    "def random(ix,iy,iz):\n",
    "    random = []\n",
    "    for i in range(len(ix)):\n",
    "        x = ix[i]\n",
    "        y = iy[i]\n",
    "        z = iz[i]\n",
    "        x = 171 * (x%177) -  2 * (x/177)\n",
    "        y = 171 * (y%176) - 35 * (y/176)\n",
    "        z = 170 * (z%178) - 63 * (z/178)\n",
    "\n",
    "        if x < 0:\n",
    "            x += 30269\n",
    "        if y < 0:\n",
    "            y += 30307\n",
    "        if z < 0:\n",
    "            z += 30323\n",
    "        random.append((x/30269. + y/30307. + z/30323.) % 1.0)\n",
    "    return random"
   ]
  },
  {
   "cell_type": "code",
   "execution_count": null,
   "metadata": {
    "collapsed": false
   },
   "outputs": [],
   "source": [
    "ix=abs(100*field84)\n",
    "iy=abs(200*glob95)\n",
    "iz=abs(50*val)\n",
    "\n",
    "prand=random(ix,iy,iz)\n",
    "\n",
    "k = 0\n",
    "for i in range(n_stars):\n",
    "    if NOFF[i] == 0:\n",
    "        p[i] = 1.000\n",
    "        prand[i] = 0.0\n",
    "        k+=1\n",
    "        \n",
    "print \"number of stars corrected\", k\n",
    "\n",
    "member = np.zeros(n_stars)\n",
    "k = 0\n",
    "for i in range(n):\n",
    "    if prand[i] < p[i]:\n",
    "        member[i] = 1\n",
    "        k+=1\n",
    "    else:\n",
    "        member[i] = 0\n",
    "        \n",
    "print '# members', k\n",
    "print '# non-members', n_stars-k\n",
    "print '# total stars', n_stars"
   ]
  },
  {
   "cell_type": "code",
   "execution_count": null,
   "metadata": {
    "collapsed": false
   },
   "outputs": [],
   "source": [
    "Probability = QTable()\n",
    "Probability['id'] = id_phot\n",
    "Probability['NGC'] = n_near_g_gr     # NGC   Phot\n",
    "Probability['NOFF'] = n_near_g_gr_tri # NOFF  trilegal\n",
    "Probability['glob95'] = glob95\n",
    "Probability['field84'] = field84\n",
    "Probability['val'] = val\n",
    "Probability['p'] = 1 - val\n",
    "Probability['member'] = member\n",
    "np.savetxt(cluster + '_' + str(t.date()) +'_backup_probability'+'.txt', Probability, delimiter=',', fmt='%s', header='id NGC NOFF glob95 field84 val p member')\n",
    "print Probability[:3]"
   ]
  },
  {
   "cell_type": "code",
   "execution_count": null,
   "metadata": {
    "collapsed": false
   },
   "outputs": [],
   "source": [
    "Phot['p'] = p\n",
    "Phot['member'] = member\n",
    "\n",
    "fieldstars = Phot[np.where(member == 0)[0]]\n",
    "outcluster = Phot[np.where(member == 1)[0]]\n",
    "out3sig = Phot[np.where((member == 1) & (p >.95))[0]]\n",
    "\n",
    "fieldstars.write(cluster +'_'+ str(t.date()) + '_fieldstars.txt', format='ascii')\n",
    "outcluster.write(cluster +'_'+ str(t.date()) + '_outcluster.txt', format='ascii')\n",
    "out3sig.write(cluster +'_'+ str(t.date()) + '_out3sig.txt', format='ascii')\n",
    "\n",
    "print cluster + ' outcluster   '\n",
    "print '  n stars  ', len(outcluster), '/', n_stars\n",
    "print '  avg p    ', outcluster['p'].mean()\n",
    "print cluster + ' out3sig      '\n",
    "print '  n stars  ', len(out3sig), '/', n_stars\n",
    "print '  avg p    ', out3sig['p'].mean()\n",
    "print cluster + ' fieldstars   '\n",
    "print '  n stars: ', len(fieldstars), '/', n_stars\n",
    "print '  avg p:   ', fieldstars['p'].mean()"
   ]
  },
  {
   "cell_type": "code",
   "execution_count": null,
   "metadata": {
    "collapsed": false
   },
   "outputs": [],
   "source": []
  }
 ],
 "metadata": {
  "anaconda-cloud": {},
  "kernelspec": {
   "display_name": "Python [Root]",
   "language": "python",
   "name": "Python [Root]"
  },
  "language_info": {
   "codemirror_mode": {
    "name": "ipython",
    "version": 2
   },
   "file_extension": ".py",
   "mimetype": "text/x-python",
   "name": "python",
   "nbconvert_exporter": "python",
   "pygments_lexer": "ipython2",
   "version": "2.7.12"
  },
  "nbpresent": {
   "slides": {
    "0ec1c9c9-46de-431c-b3d0-57a790d63fa9": {
     "id": "0ec1c9c9-46de-431c-b3d0-57a790d63fa9",
     "prev": "4b591d69-2507-4747-8d7b-9f7582e91c31",
     "regions": {
      "51006f3f-2c94-4cac-9826-e6fa9e5aa7f8": {
       "attrs": {
        "height": 0.8,
        "width": 0.8,
        "x": 0.1,
        "y": 0.1
       },
       "content": {
        "cell": "2a3ea38b-d57e-408b-98db-240a0ce8dc43",
        "part": "whole"
       },
       "id": "51006f3f-2c94-4cac-9826-e6fa9e5aa7f8"
      }
     }
    },
    "45bbd5fb-af35-4602-ac8f-c80d7b59e5c5": {
     "id": "45bbd5fb-af35-4602-ac8f-c80d7b59e5c5",
     "prev": null,
     "regions": {
      "ec5e772b-e71e-47c2-9ccf-75099a156f2a": {
       "attrs": {
        "height": 0.8,
        "width": 0.8,
        "x": 0.1,
        "y": 0.1
       },
       "content": {
        "cell": "fad2ed01-ce65-404d-a1f2-0571312c600c",
        "part": "whole"
       },
       "id": "ec5e772b-e71e-47c2-9ccf-75099a156f2a"
      }
     }
    },
    "4b591d69-2507-4747-8d7b-9f7582e91c31": {
     "id": "4b591d69-2507-4747-8d7b-9f7582e91c31",
     "prev": "a8ab8367-6060-4e9b-9a35-2ff054bf49a9",
     "regions": {
      "fafbd285-360d-497b-8abb-c04cf4fbf8af": {
       "attrs": {
        "height": 0.8,
        "width": 0.8,
        "x": 0.1,
        "y": 0.1
       },
       "content": {
        "cell": "25024034-8516-453b-8ad2-bd4f7f0b0800",
        "part": "whole"
       },
       "id": "fafbd285-360d-497b-8abb-c04cf4fbf8af"
      }
     }
    },
    "6d83267c-7355-4988-8603-0304625a7d0f": {
     "id": "6d83267c-7355-4988-8603-0304625a7d0f",
     "prev": "e5db8678-f9ae-4ab3-a200-3e1b1ae036f8",
     "regions": {
      "1d6dab2d-4cb3-4679-8b9c-a3ab28f8c7ef": {
       "attrs": {
        "height": 0.8,
        "width": 0.8,
        "x": 0.1,
        "y": 0.1
       },
       "content": {
        "cell": "1d5afd63-e1fb-48de-adfd-db5156a6f33d",
        "part": "whole"
       },
       "id": "1d6dab2d-4cb3-4679-8b9c-a3ab28f8c7ef"
      }
     }
    },
    "8a6d2749-c6f0-42b7-95b8-6132f10a3006": {
     "id": "8a6d2749-c6f0-42b7-95b8-6132f10a3006",
     "prev": "45bbd5fb-af35-4602-ac8f-c80d7b59e5c5",
     "regions": {
      "ada29686-6448-4bba-9f41-3888e34ecc32": {
       "attrs": {
        "height": 0.8,
        "width": 0.8,
        "x": 0.1,
        "y": 0.1
       },
       "content": {
        "cell": "dfdee515-2f8e-45e6-a749-7a4d995cecbd",
        "part": "whole"
       },
       "id": "ada29686-6448-4bba-9f41-3888e34ecc32"
      }
     }
    },
    "a8ab8367-6060-4e9b-9a35-2ff054bf49a9": {
     "id": "a8ab8367-6060-4e9b-9a35-2ff054bf49a9",
     "prev": "6d83267c-7355-4988-8603-0304625a7d0f",
     "regions": {
      "e1289a16-4668-446e-af7c-5d9bcb6509d0": {
       "attrs": {
        "height": 0.8,
        "width": 0.8,
        "x": 0.1,
        "y": 0.1
       },
       "content": {
        "cell": "80a4efd4-c97b-472c-b88b-b2e6ded69adb",
        "part": "whole"
       },
       "id": "e1289a16-4668-446e-af7c-5d9bcb6509d0"
      }
     }
    },
    "cc852138-1ae6-40d8-a414-2877e06e865f": {
     "id": "cc852138-1ae6-40d8-a414-2877e06e865f",
     "prev": "0ec1c9c9-46de-431c-b3d0-57a790d63fa9",
     "regions": {
      "f55beeb1-f928-4cf0-bdc3-552bf384aab7": {
       "attrs": {
        "height": 0.8,
        "width": 0.8,
        "x": 0.1,
        "y": 0.1
       },
       "content": {
        "cell": "01e51c26-3db5-418d-8156-7a46f135a65d",
        "part": "whole"
       },
       "id": "f55beeb1-f928-4cf0-bdc3-552bf384aab7"
      }
     }
    },
    "e5db8678-f9ae-4ab3-a200-3e1b1ae036f8": {
     "id": "e5db8678-f9ae-4ab3-a200-3e1b1ae036f8",
     "prev": "8a6d2749-c6f0-42b7-95b8-6132f10a3006",
     "regions": {
      "1d700980-ddea-4dec-b9d3-7230eeda3c67": {
       "attrs": {
        "height": 0.8,
        "width": 0.8,
        "x": 0.1,
        "y": 0.1
       },
       "content": {
        "cell": "0729b5b7-99ed-4ebe-987a-74d262a9ff0a",
        "part": "whole"
       },
       "id": "1d700980-ddea-4dec-b9d3-7230eeda3c67"
      }
     }
    },
    "ebbea005-2618-4601-b89f-c3cbcbf80aea": {
     "id": "ebbea005-2618-4601-b89f-c3cbcbf80aea",
     "prev": "cc852138-1ae6-40d8-a414-2877e06e865f",
     "regions": {
      "6a3a7225-7b14-47b6-bfc4-f4652abab31d": {
       "attrs": {
        "height": 0.8,
        "width": 0.8,
        "x": 0.1,
        "y": 0.1
       },
       "content": {
        "cell": "a58ed56a-1aca-4743-a4d9-6a570f75ed48",
        "part": "whole"
       },
       "id": "6a3a7225-7b14-47b6-bfc4-f4652abab31d"
      }
     }
    }
   },
   "themes": {
    "default": "32dff0ab-b494-435c-8f36-25c29c2c8a3c",
    "theme": {
     "32dff0ab-b494-435c-8f36-25c29c2c8a3c": {
      "backgrounds": {
       "backgroundColor": {
        "background-color": "backgroundColor",
        "id": "backgroundColor"
       }
      },
      "id": "32dff0ab-b494-435c-8f36-25c29c2c8a3c",
      "palette": {
       "backgroundColor": {
        "id": "backgroundColor",
        "rgb": [
         253,
         246,
         227
        ]
       },
       "headingColor": {
        "id": "headingColor",
        "rgb": [
         88,
         110,
         117
        ]
       },
       "linkColor": {
        "id": "linkColor",
        "rgb": [
         38,
         139,
         210
        ]
       },
       "mainColor": {
        "id": "mainColor",
        "rgb": [
         101,
         123,
         131
        ]
       }
      },
      "rules": {
       "a": {
        "color": "linkColor"
       },
       "h1": {
        "color": "headingColor",
        "font-family": "Oswald",
        "font-size": 7
       },
       "h2": {
        "color": "headingColor",
        "font-family": "Oswald",
        "font-size": 5
       },
       "h3": {
        "color": "headingColor",
        "font-family": "Oswald",
        "font-size": 3.75
       },
       "h4": {
        "color": "headingColor",
        "font-family": "Oswald",
        "font-size": 3
       },
       "h5": {
        "color": "headingColor",
        "font-family": "Oswald"
       },
       "h6": {
        "color": "headingColor",
        "font-family": "Oswald"
       },
       "h7": {
        "color": "headingColor",
        "font-family": "Oswald"
       },
       "li": {
        "color": "mainColor",
        "font-family": "Lato",
        "font-size": 5
       },
       "p": {
        "color": "mainColor",
        "font-family": "Lato",
        "font-size": 5
       }
      },
      "text-base": {
       "color": "mainColor",
       "font-family": "Lato",
       "font-size": 5
      }
     }
    }
   }
  }
 },
 "nbformat": 4,
 "nbformat_minor": 0
}
